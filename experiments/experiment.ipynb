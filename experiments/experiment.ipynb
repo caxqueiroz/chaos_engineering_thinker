{
 "cells": [
  {
   "cell_type": "code",
   "execution_count": 1,
   "metadata": {},
   "outputs": [],
   "source": [
    "# write the code to connect to ollama and ask a question\n",
    "\n",
    "import asyncio\n",
    "from ollama import AsyncClient\n",
    "import argparse\n",
    "from rich.console import Console\n",
    "from rich.panel import Panel\n",
    "from rich.markdown import Markdown\n",
    "from rich.live import Live\n",
    "from rich.text import Text\n",
    "from rich.style import Style"
   ]
  },
  {
   "cell_type": "code",
   "execution_count": 11,
   "metadata": {},
   "outputs": [],
   "source": [
    "from IPython.display import display, clear_output\n",
    "# Initialize the Ollama client\n",
    "client = AsyncClient(host='http://localhost:11434')\n",
    "async def chat_with_ollama(model: str, prompt: str):\n",
    "    try:\n",
    "        full_response = \"\"\n",
    "        async for response in await client.chat(\n",
    "            model=model,\n",
    "            messages=[{\"role\": \"user\", \"content\": prompt}],\n",
    "            stream=True\n",
    "        ):\n",
    "            # Extract the new content from the response\n",
    "            if 'message' in response:\n",
    "                new_content = response['message'].get('content', '')\n",
    "                full_response += new_content\n",
    "                \n",
    "                # Clear and display the accumulated response\n",
    "                clear_output(wait=True)\n",
    "                print(full_response, end='', flush=True)\n",
    "        \n",
    "        print(\"\\n\\nResponse completed\")\n",
    "        return full_response\n",
    "        \n",
    "    except Exception as e:\n",
    "        print(f\"Error: {str(e)}\")\n",
    "        return f\"Error: {str(e)}\""
   ]
  },
  {
   "cell_type": "code",
   "execution_count": 12,
   "metadata": {},
   "outputs": [
    {
     "name": "stdout",
     "output_type": "stream",
     "text": [
      "<think>\n",
      "Okay, so I'm trying to figure out what the meaning of life is. This question seems really big and a bit overwhelming, but I'll try to break it down.\n",
      "\n",
      "First, I remember that different people have different opinions on this. Some say it's about happiness, others about purpose or service. But where do these ideas come from? Maybe from religion, philosophy, science, or personal experiences?\n",
      "\n",
      "I think about religious perspectives. In Christianity, the meaning might be to serve God and prepare for an afterlife. In Buddhism, it's more about ending suffering through enlightenment. Each religion seems to have its own take based on their teachings.\n",
      "\n",
      "Then there are philosophical views. I've heard of existentialists like Sartre who say that life doesn't have an inherent meaning; we create our own. That makes sense because people do find meaning in different things—like work, family, art, etc. But then, if it's up to each individual, how does that work? Do we just choose what gives us purpose?\n",
      "\n",
      "On the science side, maybe the meaning is more about evolution and survival. Like, our purpose is to pass on genes or contribute to the species' continuation. But that feels a bit too biological and doesn't account for things like art or love.\n",
      "\n",
      "I also think about psychological perspectives. Freud might say it's about fulfilling desires, while someone like Frankl, who wrote \"Man's Search for Meaning,\" suggests finding meaning through suffering and purposeful work. That seems more complex and individualized.\n",
      "\n",
      "Personal experiences play a role too. Some people find meaning in relationships or helping others. Others might find it in personal achievements or creative expression. It really varies, which makes me think the answer isn't one-size-fits-all.\n",
      "\n",
      "I wonder if there's an objective meaning or if it's all subjective. Maybe some people believe there's an ultimate purpose set by a higher power, while others see it as something each person decides for themselves. This could explain why there are so many different answers to this question.\n",
      "\n",
      "Also, considering the universe's scale, our existence is pretty tiny in cosmic terms. Does that mean life's meaning is insignificant on a grand scale? Or does our individual experience make it meaningful regardless?\n",
      "\n",
      "I'm still confused because all these perspectives don't align. Maybe the meaning of life is something we each have to figure out for ourselves based on what matters most to us individually.\n",
      "</think>\n",
      "\n",
      "The question of the meaning of life is complex and multifaceted, with various perspectives offering different insights:\n",
      "\n",
      "1. **Religious Views**: \n",
      "   - Christianity suggests life's purpose is to serve God and prepare for an afterlife.\n",
      "   - Buddhism focuses on ending suffering through enlightenment.\n",
      "\n",
      "2. **Philosophical Perspectives**:\n",
      "   - Existentialists like Sartre propose that life has no inherent meaning, and individuals must create their own purpose.\n",
      "   - This aligns with the idea that people find meaning in diverse areas such as work, family, or art.\n",
      "\n",
      "3. **Scientific Outlook**:\n",
      "   - From an evolutionary standpoint, life's meaning might be tied to survival and passing on genes.\n",
      "   - However, this perspective doesn't fully account for aspects like art or love.\n",
      "\n",
      "4. **Psychological Insights**:\n",
      "   - Freud emphasizes fulfilling desires, while Frankl suggests finding meaning through suffering and purposeful work.\n",
      "\n",
      "5. **Personal Experiences**:\n",
      "   - Individuals often find meaning in relationships, helping others, achievements, or creative expression, highlighting the subjective nature of life's meaning.\n",
      "\n",
      "6. **Objective vs. Subjective Meaning**:\n",
      "   - Some believe in an objective, higher-purpose-driven meaning, while others see it as a personal choice.\n",
      "   - The universe's vastness might suggest insignificance on a cosmic scale, yet individual experiences can render life meaningful.\n",
      "\n",
      "In conclusion, the meaning of life may be subjective and individually determined. It is a deeply personal question that each person must answer based on their values, beliefs, and experiences.\n",
      "\n",
      "Response completed\n"
     ]
    },
    {
     "data": {
      "text/plain": [
       "'<think>\\nOkay, so I\\'m trying to figure out what the meaning of life is. This question seems really big and a bit overwhelming, but I\\'ll try to break it down.\\n\\nFirst, I remember that different people have different opinions on this. Some say it\\'s about happiness, others about purpose or service. But where do these ideas come from? Maybe from religion, philosophy, science, or personal experiences?\\n\\nI think about religious perspectives. In Christianity, the meaning might be to serve God and prepare for an afterlife. In Buddhism, it\\'s more about ending suffering through enlightenment. Each religion seems to have its own take based on their teachings.\\n\\nThen there are philosophical views. I\\'ve heard of existentialists like Sartre who say that life doesn\\'t have an inherent meaning; we create our own. That makes sense because people do find meaning in different things—like work, family, art, etc. But then, if it\\'s up to each individual, how does that work? Do we just choose what gives us purpose?\\n\\nOn the science side, maybe the meaning is more about evolution and survival. Like, our purpose is to pass on genes or contribute to the species\\' continuation. But that feels a bit too biological and doesn\\'t account for things like art or love.\\n\\nI also think about psychological perspectives. Freud might say it\\'s about fulfilling desires, while someone like Frankl, who wrote \"Man\\'s Search for Meaning,\" suggests finding meaning through suffering and purposeful work. That seems more complex and individualized.\\n\\nPersonal experiences play a role too. Some people find meaning in relationships or helping others. Others might find it in personal achievements or creative expression. It really varies, which makes me think the answer isn\\'t one-size-fits-all.\\n\\nI wonder if there\\'s an objective meaning or if it\\'s all subjective. Maybe some people believe there\\'s an ultimate purpose set by a higher power, while others see it as something each person decides for themselves. This could explain why there are so many different answers to this question.\\n\\nAlso, considering the universe\\'s scale, our existence is pretty tiny in cosmic terms. Does that mean life\\'s meaning is insignificant on a grand scale? Or does our individual experience make it meaningful regardless?\\n\\nI\\'m still confused because all these perspectives don\\'t align. Maybe the meaning of life is something we each have to figure out for ourselves based on what matters most to us individually.\\n</think>\\n\\nThe question of the meaning of life is complex and multifaceted, with various perspectives offering different insights:\\n\\n1. **Religious Views**: \\n   - Christianity suggests life\\'s purpose is to serve God and prepare for an afterlife.\\n   - Buddhism focuses on ending suffering through enlightenment.\\n\\n2. **Philosophical Perspectives**:\\n   - Existentialists like Sartre propose that life has no inherent meaning, and individuals must create their own purpose.\\n   - This aligns with the idea that people find meaning in diverse areas such as work, family, or art.\\n\\n3. **Scientific Outlook**:\\n   - From an evolutionary standpoint, life\\'s meaning might be tied to survival and passing on genes.\\n   - However, this perspective doesn\\'t fully account for aspects like art or love.\\n\\n4. **Psychological Insights**:\\n   - Freud emphasizes fulfilling desires, while Frankl suggests finding meaning through suffering and purposeful work.\\n\\n5. **Personal Experiences**:\\n   - Individuals often find meaning in relationships, helping others, achievements, or creative expression, highlighting the subjective nature of life\\'s meaning.\\n\\n6. **Objective vs. Subjective Meaning**:\\n   - Some believe in an objective, higher-purpose-driven meaning, while others see it as a personal choice.\\n   - The universe\\'s vastness might suggest insignificance on a cosmic scale, yet individual experiences can render life meaningful.\\n\\nIn conclusion, the meaning of life may be subjective and individually determined. It is a deeply personal question that each person must answer based on their values, beliefs, and experiences.'"
      ]
     },
     "execution_count": 12,
     "metadata": {},
     "output_type": "execute_result"
    }
   ],
   "source": [
    "await chat_with_ollama(\"deepseek-r1:70b\", \"What is the meaning of life?\")"
   ]
  },
  {
   "cell_type": "code",
   "execution_count": null,
   "metadata": {},
   "outputs": [],
   "source": []
  },
  {
   "cell_type": "code",
   "execution_count": null,
   "metadata": {},
   "outputs": [],
   "source": []
  },
  {
   "cell_type": "code",
   "execution_count": null,
   "metadata": {},
   "outputs": [],
   "source": []
  },
  {
   "cell_type": "code",
   "execution_count": null,
   "metadata": {},
   "outputs": [],
   "source": []
  },
  {
   "cell_type": "code",
   "execution_count": null,
   "metadata": {},
   "outputs": [],
   "source": []
  }
 ],
 "metadata": {
  "kernelspec": {
   "display_name": "chaoseng",
   "language": "python",
   "name": "python3"
  },
  "language_info": {
   "codemirror_mode": {
    "name": "ipython",
    "version": 3
   },
   "file_extension": ".py",
   "mimetype": "text/x-python",
   "name": "python",
   "nbconvert_exporter": "python",
   "pygments_lexer": "ipython3",
   "version": "3.11.5"
  }
 },
 "nbformat": 4,
 "nbformat_minor": 2
}
